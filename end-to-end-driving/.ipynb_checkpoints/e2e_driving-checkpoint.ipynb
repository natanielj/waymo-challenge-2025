{
 "cells": [
  {
   "cell_type": "markdown",
   "id": "cb1b1113",
   "metadata": {},
   "source": [
    "# Vision End-To-End Driving Waymo Challenge "
   ]
  },
  {
   "cell_type": "markdown",
   "id": "cbd49a11",
   "metadata": {},
   "source": [
    "## Downloading dataset from Waymo Dataset Bucket"
   ]
  },
  {
   "cell_type": "code",
   "execution_count": 16,
   "id": "a934fa1f-1f23-467f-a143-a221dee3fb66",
   "metadata": {},
   "outputs": [],
   "source": [
    "!pip freeze > requirements.txt"
   ]
  },
  {
   "cell_type": "code",
   "execution_count": 15,
   "id": "9656bed7-a9a7-444d-83dc-fd1ccc604dee",
   "metadata": {},
   "outputs": [],
   "source": [
    "from typing import Tuple\n",
    "import matplotlib.pyplot as plt\n",
    "import tensorflow as tf\n",
    "import os\n",
    "import math\n",
    "import numpy as np\n",
    "import cv2\n",
    "from waymo_open_dataset import dataset_pb2 as open_dataset\n",
    "from waymo_open_dataset.wdl_limited.camera.ops import py_camera_model_ops\n",
    "\n",
    "from waymo_open_dataset.protos import end_to_end_driving_data_pb2 as wod_e2ed_pb2\n",
    "from waymo_open_dataset.protos import end_to_end_driving_submission_pb2 as wod_e2ed_submission_pb2"
   ]
  },
  {
   "cell_type": "code",
   "execution_count": 20,
   "id": "b7d3b97f-0832-41ec-afc7-384140f748ff",
   "metadata": {},
   "outputs": [],
   "source": [
    "DATASET_FOLDER = \"/data/waymo_e2e/waymo-open-dataset-tf\"\n",
    "\n",
    "TRAIN_FILES = os.path.join(DATASET_FOLDER, 'training.tfrecord*')\n",
    "VALIDATION_FILES = os.path.join(DATASET_FOLDER, 'validation.tfrecord*')\n",
    "TEST_FILES = os.path.join(DATASET_FOLDER, 'test.tfrecord*')\n"
   ]
  },
  {
   "cell_type": "code",
   "execution_count": 21,
   "id": "4d3bc77c-f1a9-4983-a2a6-adfc5d64f86e",
   "metadata": {},
   "outputs": [],
   "source": [
    "filenames = tf.io.matching_files(VALIDATION_FILES)\n",
    "dataset = tf.data.TFRecordDataset(filenames, compression_type='')\n",
    "dataset_iter = dataset.as_numpy_iterator()"
   ]
  },
  {
   "cell_type": "code",
   "execution_count": null,
   "id": "336b4f98-839f-4f98-afd3-271697cc8ed4",
   "metadata": {},
   "outputs": [],
   "source": []
  }
 ],
 "metadata": {
  "kernelspec": {
   "display_name": "Python 3.10 (Waymo-env)",
   "language": "python",
   "name": "waymo-env"
  },
  "language_info": {
   "codemirror_mode": {
    "name": "ipython",
    "version": 3
   },
   "file_extension": ".py",
   "mimetype": "text/x-python",
   "name": "python",
   "nbconvert_exporter": "python",
   "pygments_lexer": "ipython3",
   "version": "3.10.18"
  }
 },
 "nbformat": 4,
 "nbformat_minor": 5
}
