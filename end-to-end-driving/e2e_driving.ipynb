{
 "cells": [
  {
   "cell_type": "markdown",
   "id": "cb1b1113",
   "metadata": {},
   "source": [
    "# Vision End-To-End Driving Waymo Challenge "
   ]
  },
  {
   "cell_type": "markdown",
   "id": "cbd49a11",
   "metadata": {},
   "source": [
    "## Downloading dataset from Waymo Dataset Bucket"
   ]
  },
  {
   "cell_type": "code",
   "execution_count": null,
   "id": "ab459b44",
   "metadata": {
    "vscode": {
     "languageId": "plaintext"
    }
   },
   "outputs": [],
   "source": []
  }
 ],
 "metadata": {
  "language_info": {
   "name": "python"
  }
 },
 "nbformat": 4,
 "nbformat_minor": 5
}
